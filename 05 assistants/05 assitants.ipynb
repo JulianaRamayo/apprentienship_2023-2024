{
 "cells": [
  {
   "cell_type": "code",
   "execution_count": 1,
   "metadata": {},
   "outputs": [],
   "source": [
    "from openai import OpenAI\n",
    "client = OpenAI(api_key = \"KEY\")\n",
    "\n",
    "# Create an assistant\n",
    "my_assistant = client.beta.assistants.create(\n",
    "    instructions=\"You are a personal math tutor. When asked a question, write and run Python code to answer the question.\",\n",
    "    name=\"Math Tutor\",\n",
    "    tools=[{\"type\": \"code_interpreter\"}],\n",
    "    model=\"gpt-4\",\n",
    ")"
   ]
  },
  {
   "cell_type": "code",
   "execution_count": 2,
   "metadata": {},
   "outputs": [],
   "source": [
    "# Create a thread\n",
    "thread = client.beta.threads.create() #A Thread represents a conversation. \n",
    "#print(thread)"
   ]
  },
  {
   "cell_type": "code",
   "execution_count": 3,
   "metadata": {},
   "outputs": [],
   "source": [
    "# Add a message to the thread\n",
    "message = client.beta.threads.messages.create(\n",
    "     thread_id=thread.id,\n",
    "     role=\"user\",\n",
    "     content=\"I need to solve the equation `3x + 11 = 14`. Can you help me?\"\n",
    ")\n",
    "#print(message)"
   ]
  },
  {
   "cell_type": "code",
   "execution_count": 4,
   "metadata": {},
   "outputs": [],
   "source": [
    "# Run the assistant\n",
    "run = client.beta.threads.runs.create(\n",
    "thread_id=thread.id,\n",
    "assistant_id=my_assistant.id,\n",
    "instructions=\"Please address the user as Jane Doe. The user has a premium account.\"\n",
    ")"
   ]
  },
  {
   "cell_type": "code",
   "execution_count": 8,
   "metadata": {},
   "outputs": [
    {
     "name": "stdout",
     "output_type": "stream",
     "text": [
      "Run(id='run_ZJ09rxaCglv66tvjh4hUR9gr', assistant_id='asst_YaHK2cEA7eESTbumbkZx0uJC', cancelled_at=None, completed_at=1701096673, created_at=1701096655, expires_at=None, failed_at=None, file_ids=[], instructions='Please address the user as Jane Doe. The user has a premium account.', last_error=None, metadata={}, model='gpt-4', object='thread.run', required_action=None, started_at=1701096655, status='completed', thread_id='thread_kzUsTp8cwArzXwpQJTzfI3ZG', tools=[ToolAssistantToolsCode(type='code_interpreter')])\n"
     ]
    }
   ],
   "source": [
    "# Check the run status\n",
    "run = client.beta.threads.runs.retrieve(\n",
    "   thread_id=thread.id,\n",
    "   run_id=run.id\n",
    ")\n",
    "\n",
    "print(run)"
   ]
  },
  {
   "cell_type": "code",
   "execution_count": 10,
   "metadata": {},
   "outputs": [
    {
     "name": "stdout",
     "output_type": "stream",
     "text": [
      "SyncCursorPage[ThreadMessage](data=[ThreadMessage(id='msg_wMKHIQFayvau9BaxyPjvSnmy', assistant_id='asst_YaHK2cEA7eESTbumbkZx0uJC', content=[MessageContentText(text=Text(annotations=[], value='The solution to the equation `3x + 11 = 14` is confirmed as `x = 1`, Jane Doe.'), type='text')], created_at=1701096672, file_ids=[], metadata={}, object='thread.message', role='assistant', run_id='run_ZJ09rxaCglv66tvjh4hUR9gr', thread_id='thread_kzUsTp8cwArzXwpQJTzfI3ZG'), ThreadMessage(id='msg_9cPebKhbDhhm2tIB6avnANq3', assistant_id='asst_YaHK2cEA7eESTbumbkZx0uJC', content=[MessageContentText(text=Text(annotations=[], value=\"Sure, I can help you solve this equation. \\n\\nWe have to isolate `x` to solve for it. Let's start by subtracting `11` from both sides:\\n\\n    3x + 11 - 11 = 14 - 11\\n\\nWhich simplifies to:\\n\\n    3x = 3\\n\\nThen, we divide both sides by `3`:\\n\\n    3x/3 = 3/3\\n\\nThis gives us the solution `x = 1`. Let me now compute this to confirm.\"), type='text')], created_at=1701096656, file_ids=[], metadata={}, object='thread.message', role='assistant', run_id='run_ZJ09rxaCglv66tvjh4hUR9gr', thread_id='thread_kzUsTp8cwArzXwpQJTzfI3ZG'), ThreadMessage(id='msg_5iY5B7udp6JlOiHchxlLeVDQ', assistant_id=None, content=[MessageContentText(text=Text(annotations=[], value='I need to solve the equation `3x + 11 = 14`. Can you help me?'), type='text')], created_at=1701096652, file_ids=[], metadata={}, object='thread.message', role='user', run_id=None, thread_id='thread_kzUsTp8cwArzXwpQJTzfI3ZG')], object='list', first_id='msg_wMKHIQFayvau9BaxyPjvSnmy', last_id='msg_5iY5B7udp6JlOiHchxlLeVDQ', has_more=False)\n"
     ]
    }
   ],
   "source": [
    "# Display the assistant's response\n",
    "messages = client.beta.threads.messages.list(\n",
    "      thread_id=thread.id\n",
    ")\n",
    "print(messages)"
   ]
  },
  {
   "cell_type": "code",
   "execution_count": 11,
   "metadata": {},
   "outputs": [
    {
     "name": "stdout",
     "output_type": "stream",
     "text": [
      "user: I need to solve the equation `3x + 11 = 14`. Can you help me?\n",
      "assistant: Sure, I can help you solve this equation. \n",
      "\n",
      "We have to isolate `x` to solve for it. Let's start by subtracting `11` from both sides:\n",
      "\n",
      "    3x + 11 - 11 = 14 - 11\n",
      "\n",
      "Which simplifies to:\n",
      "\n",
      "    3x = 3\n",
      "\n",
      "Then, we divide both sides by `3`:\n",
      "\n",
      "    3x/3 = 3/3\n",
      "\n",
      "This gives us the solution `x = 1`. Let me now compute this to confirm.\n",
      "assistant: The solution to the equation `3x + 11 = 14` is confirmed as `x = 1`, Jane Doe.\n"
     ]
    }
   ],
   "source": [
    "for message in reversed(messages.data):\n",
    "    print(message.role + \": \" + message.content[0].text.value)"
   ]
  },
  {
   "cell_type": "code",
   "execution_count": 12,
   "metadata": {},
   "outputs": [],
   "source": [
    "# Using files\n",
    "# Create a file\n",
    "file = client.files.create(\n",
    "    file=open('jmdh-16-1779.pdf', 'rb'),\n",
    "    purpose=\"assistants\"\n",
    ")"
   ]
  },
  {
   "cell_type": "code",
   "execution_count": 13,
   "metadata": {},
   "outputs": [
    {
     "name": "stdout",
     "output_type": "stream",
     "text": [
      "FileObject(id='file-a7KUACcWqwwiuAA5LpWClmio', bytes=3892008, created_at=1701096996, filename='jmdh-16-1779.pdf', object='file', purpose='assistants', status='processed', status_details=None)\n"
     ]
    }
   ],
   "source": [
    "print(file)"
   ]
  },
  {
   "cell_type": "code",
   "execution_count": 19,
   "metadata": {},
   "outputs": [],
   "source": [
    "# Create an assistant\n",
    "my_assistant = client.beta.assistants.create(\n",
    "    instructions=\"You are a machine learning researcher, answer questions on the research paper.\",\n",
    "    name=\"Machine Learning Researcher\",\n",
    "    tools=[{\"type\": \"retrieval\"}],\n",
    "    model=\"gpt-4-1106-preview\",\n",
    "    file_ids=[file.id]\n",
    ")"
   ]
  },
  {
   "cell_type": "code",
   "execution_count": 20,
   "metadata": {},
   "outputs": [],
   "source": [
    "# Create a thread\n",
    "thread = client.beta.threads.create() #A Thread represents a conversation. "
   ]
  },
  {
   "cell_type": "code",
   "execution_count": 21,
   "metadata": {},
   "outputs": [],
   "source": [
    "# Add a message to the thread\n",
    "message = client.beta.threads.messages.create(\n",
    "     thread_id=thread.id,\n",
    "     role=\"user\",\n",
    "     content=\"How does the paper uses concepts of machine learning in cancer discovery?\"\n",
    ")"
   ]
  },
  {
   "cell_type": "code",
   "execution_count": 23,
   "metadata": {},
   "outputs": [],
   "source": [
    "# Run the assistant\n",
    "run = client.beta.threads.runs.create(\n",
    "thread_id=thread.id,\n",
    "assistant_id=my_assistant.id,\n",
    "instructions=\"Please address the user as Jane Doe. The user has a premium account.\"\n",
    ")"
   ]
  },
  {
   "cell_type": "code",
   "execution_count": 24,
   "metadata": {},
   "outputs": [
    {
     "name": "stdout",
     "output_type": "stream",
     "text": [
      "Run(id='run_RNZkgvGoIyzwJSZwLTMan9OU', assistant_id='asst_BiBT77BxIpbT1usCiEWuzMcw', cancelled_at=None, completed_at=1701097444, created_at=1701097424, expires_at=None, failed_at=None, file_ids=['file-a7KUACcWqwwiuAA5LpWClmio'], instructions='Please address the user as Jane Doe. The user has a premium account.', last_error=None, metadata={}, model='gpt-4-1106-preview', object='thread.run', required_action=None, started_at=1701097425, status='completed', thread_id='thread_lrploxM7vcbLQDvPSj8pFgeD', tools=[ToolAssistantToolsRetrieval(type='retrieval')])\n"
     ]
    }
   ],
   "source": [
    "# Check the run status\n",
    "run = client.beta.threads.runs.retrieve(\n",
    "   thread_id=thread.id,\n",
    "   run_id=run.id\n",
    ")\n",
    "\n",
    "print(run)"
   ]
  },
  {
   "cell_type": "code",
   "execution_count": 25,
   "metadata": {},
   "outputs": [
    {
     "name": "stdout",
     "output_type": "stream",
     "text": [
      "SyncCursorPage[ThreadMessage](data=[ThreadMessage(id='msg_K0CsGhijxcLwfIGlFgG2PL49', assistant_id='asst_BiBT77BxIpbT1usCiEWuzMcw', content=[MessageContentText(text=Text(annotations=[TextAnnotationFileCitation(end_index=1300, file_citation=TextAnnotationFileCitationFileCitation(file_id='file-a7KUACcWqwwiuAA5LpWClmio', quote='Abstract: Cancer is a leading cause of morbidity and mortality worldwide. While progress has been made in the diagnosis \\nprognosis and treatment of cancer patients individualized and data-driven care remains a challenge. Artificial intelligence\\n(AI)  which is used to predict and automate many cancers has emerged as a promising option for improving healthcare\\naccuracy and patient outcomes. AI applications in oncology include risk assessment early diagnosis patient prognosis\\nestimation and treatment selection based on deep knowledge. Machine learning (ML) a subset of AI that enables computers\\nto learn from training data has been highly effective at predicting various types of cancer including breast brain lung liver \\nand prostate cancer. In fact AI and ML have demonstrated greater accuracy in predicting cancer than clinicians. These\\ntechnologies also have the potential to improve the diagnosis prognosis and quality of life of patients with various illnesses \\nnot just cancer. Therefore it is important to improve current AI and ML technologies and to develop new programs to benefit\\npatients. This article examines the use of AI and ML algorithms in cancer prediction including their current applications \\nlimitations and future prospects'), start_index=1290, text='【9†source】', type='file_citation')], value='The paper discusses the role of machine learning (ML) and Artificial Intelligence (AI) in cancer discovery and emphasizes its importance for improving healthcare accuracy and patient outcomes. It explains that AI, through applications such as risk assessment, early diagnosis, patient prognosis estimation, and treatment selection, has shown to be a promising option for cancer prevention and management. ML, which is a subset of AI, has been particularly effective in predicting several types of cancer, including breast, brain, lung, liver, and prostate cancers, even demonstrating greater accuracy than clinicians in some cases.\\n\\nThe use of ML allows computers to learn from training data and become more effective over time at making predictions or decisions related to cancer diagnosis and treatment. The potential of these technologies extends beyond cancer to potentially improve diagnosis, prognosis, and quality of life for patients with various illnesses.\\n\\nThe paper takes a critical approach to examining the use of AI and ML algorithms in cancer prediction, covering their current applications, limitations, and prospects for the future. It acknowledges the challenge of individualized and data-driven care and stresses the importance of further developments to benefit patients【9†source】.'), type='text')], created_at=1701097431, file_ids=[], metadata={}, object='thread.message', role='assistant', run_id='run_RNZkgvGoIyzwJSZwLTMan9OU', thread_id='thread_lrploxM7vcbLQDvPSj8pFgeD'), ThreadMessage(id='msg_llldWvpiWXV4sFeFRgKR3XXu', assistant_id=None, content=[MessageContentText(text=Text(annotations=[], value='How does the paper uses concepts of machine learning in cancer discovery?'), type='text')], created_at=1701097355, file_ids=[], metadata={}, object='thread.message', role='user', run_id=None, thread_id='thread_lrploxM7vcbLQDvPSj8pFgeD')], object='list', first_id='msg_K0CsGhijxcLwfIGlFgG2PL49', last_id='msg_llldWvpiWXV4sFeFRgKR3XXu', has_more=False)\n"
     ]
    }
   ],
   "source": [
    "# Display the assistant's response\n",
    "messages = client.beta.threads.messages.list(\n",
    "      thread_id=thread.id\n",
    ")\n",
    "print(messages)"
   ]
  },
  {
   "cell_type": "code",
   "execution_count": 26,
   "metadata": {},
   "outputs": [
    {
     "name": "stdout",
     "output_type": "stream",
     "text": [
      "user: How does the paper uses concepts of machine learning in cancer discovery?\n",
      "assistant: The paper discusses the role of machine learning (ML) and Artificial Intelligence (AI) in cancer discovery and emphasizes its importance for improving healthcare accuracy and patient outcomes. It explains that AI, through applications such as risk assessment, early diagnosis, patient prognosis estimation, and treatment selection, has shown to be a promising option for cancer prevention and management. ML, which is a subset of AI, has been particularly effective in predicting several types of cancer, including breast, brain, lung, liver, and prostate cancers, even demonstrating greater accuracy than clinicians in some cases.\n",
      "\n",
      "The use of ML allows computers to learn from training data and become more effective over time at making predictions or decisions related to cancer diagnosis and treatment. The potential of these technologies extends beyond cancer to potentially improve diagnosis, prognosis, and quality of life for patients with various illnesses.\n",
      "\n",
      "The paper takes a critical approach to examining the use of AI and ML algorithms in cancer prediction, covering their current applications, limitations, and prospects for the future. It acknowledges the challenge of individualized and data-driven care and stresses the importance of further developments to benefit patients【9†source】.\n"
     ]
    }
   ],
   "source": [
    "for message in reversed(messages.data):\n",
    "    print(message.role + \": \" + message.content[0].text.value)"
   ]
  }
 ],
 "metadata": {
  "kernelspec": {
   "display_name": "chatgptapi-env",
   "language": "python",
   "name": "python3"
  },
  "language_info": {
   "codemirror_mode": {
    "name": "ipython",
    "version": 3
   },
   "file_extension": ".py",
   "mimetype": "text/x-python",
   "name": "python",
   "nbconvert_exporter": "python",
   "pygments_lexer": "ipython3",
   "version": "3.11.5"
  }
 },
 "nbformat": 4,
 "nbformat_minor": 2
}
